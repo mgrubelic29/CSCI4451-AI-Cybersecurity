{
  "nbformat": 4,
  "nbformat_minor": 0,
  "metadata": {
    "colab": {
      "name": "SpamDetectionPerceptron",
      "provenance": []
    },
    "kernelspec": {
      "name": "python3",
      "display_name": "Python 3"
    }
  },
  "cells": [
    {
      "cell_type": "code",
      "metadata": {
        "id": "4dJaO4bQcq7Y",
        "colab_type": "code",
        "colab": {}
      },
      "source": [
        "import pandas as pd\n",
        "import numpy as np\n",
        "import matplotlib.pyplot as plt\n",
        "\n",
        "#read dataset \"phishing_dataset\" into dataframe \"df\"\n",
        "df = pd.read_csv(\"phishing_dataset.csv\")"
      ],
      "execution_count": 0,
      "outputs": []
    },
    {
      "cell_type": "code",
      "metadata": {
        "id": "8cf5YOFuUqfZ",
        "colab_type": "code",
        "colab": {}
      },
      "source": [
        "# Seperate the dataframe into two values\n",
        "# y, last column in the dataset\n",
        "# x, rest of the dataset \n",
        "y = df.iloc[:, -1].values\n",
        "x = df.iloc[:, 0:-1].values"
      ],
      "execution_count": 0,
      "outputs": []
    },
    {
      "cell_type": "code",
      "metadata": {
        "id": "P62pFjd_YOO8",
        "colab_type": "code",
        "colab": {}
      },
      "source": [
        "from sklearn.model_selection import train_test_split\n",
        "\n",
        "# Use \"train_test_split\" to randomly generate dataset\n",
        "x_train, x_test, y_train, y_test = train_test_split(\n",
        "    x, y, test_size=0.2, random_state=0)"
      ],
      "execution_count": 0,
      "outputs": []
    },
    {
      "cell_type": "code",
      "metadata": {
        "id": "h6t1xMpTYXu3",
        "colab_type": "code",
        "outputId": "5360b9eb-6f5f-42d4-825d-ad63a0714dcb",
        "colab": {
          "base_uri": "https://localhost:8080/",
          "height": 85
        }
      },
      "source": [
        "from sklearn.linear_model import Perceptron\n",
        "\n",
        "# Use Perceptron function and fit x_train and y_train to it \n",
        "# max_iter : number of passes ofver the training data (aka 'epochs')\n",
        "# eta0 : Constant by which updates are multiplied \n",
        "p = Perceptron(max_iter=40, eta0=.3, random_state=0)\n",
        "p.fit(x_train, y_train)"
      ],
      "execution_count": 139,
      "outputs": [
        {
          "output_type": "execute_result",
          "data": {
            "text/plain": [
              "Perceptron(alpha=0.0001, class_weight=None, early_stopping=False, eta0=0.3,\n",
              "           fit_intercept=True, max_iter=40, n_iter_no_change=5, n_jobs=None,\n",
              "           penalty=None, random_state=0, shuffle=True, tol=0.001,\n",
              "           validation_fraction=0.1, verbose=0, warm_start=False)"
            ]
          },
          "metadata": {
            "tags": []
          },
          "execution_count": 139
        }
      ]
    },
    {
      "cell_type": "code",
      "metadata": {
        "id": "dBNXtyDJYeAk",
        "colab_type": "code",
        "colab": {}
      },
      "source": [
        "y_pred = p.predict(x_test)"
      ],
      "execution_count": 0,
      "outputs": []
    },
    {
      "cell_type": "code",
      "metadata": {
        "id": "b3hsScgzYin_",
        "colab_type": "code",
        "outputId": "9df9d25b-5b44-4b96-8c5e-2a71ef30c007",
        "colab": {
          "base_uri": "https://localhost:8080/",
          "height": 51
        }
      },
      "source": [
        "from sklearn.metrics import accuracy_score\n",
        "# Determine difference between number of samples and predicted samples \n",
        "# Measure accuracy of the Perceptron \n",
        "print('Misclassified samples: %d' % (y_test != y_pred).sum())\n",
        "print('Accuracy: %.2f' % accuracy_score(y_test, y_pred))"
      ],
      "execution_count": 141,
      "outputs": [
        {
          "output_type": "stream",
          "text": [
            "Misclassified samples: 235\n",
            "Accuracy: 0.89\n"
          ],
          "name": "stdout"
        }
      ]
    }
  ]
}