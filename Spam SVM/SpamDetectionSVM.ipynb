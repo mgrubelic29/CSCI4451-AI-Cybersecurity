{
  "nbformat": 4,
  "nbformat_minor": 0,
  "metadata": {
    "colab": {
      "name": "SpamDetectionSVM.ipynb",
      "provenance": []
    },
    "kernelspec": {
      "name": "python3",
      "display_name": "Python 3"
    }
  },
  "cells": [
    {
      "cell_type": "code",
      "metadata": {
        "id": "cHpR4Zx7Jwir",
        "colab_type": "code",
        "colab": {}
      },
      "source": [
        "import pandas as pd\n",
        "import numpy as np\n",
        "import matplotlib.pyplot as plt  \n",
        "\n",
        "#read dataset \"phishing_dataset\" into dataframe \"df\"\n",
        "df = pd.read_csv('phishing_dataset.csv')\n"
      ],
      "execution_count": 0,
      "outputs": []
    },
    {
      "cell_type": "code",
      "metadata": {
        "id": "ZDtcd0J4jlNF",
        "colab_type": "code",
        "colab": {}
      },
      "source": [
        "# Seperate the dataframe into two values\n",
        "# y, last column in the dataset\n",
        "# x, rest of the dataset \n",
        "y = df.iloc[:, -1].values\n",
        "x = df.iloc[:, 0:-1].values\n",
        "\n"
      ],
      "execution_count": 0,
      "outputs": []
    },
    {
      "cell_type": "code",
      "metadata": {
        "id": "w2EkK4JJFV4z",
        "colab_type": "code",
        "colab": {}
      },
      "source": [
        "from sklearn.model_selection import train_test_split\n",
        "\n",
        "# Use \"train_test_split\" to randomly generate dataset\n",
        "x_train, x_test, y_train, y_test = train_test_split(\n",
        "         x, y, test_size=0.3, random_state=0)\n"
      ],
      "execution_count": 0,
      "outputs": []
    },
    {
      "cell_type": "code",
      "metadata": {
        "id": "qda8MYY-FY1d",
        "colab_type": "code",
        "colab": {}
      },
      "source": [
        "from sklearn.svm import SVC\n",
        "\n",
        "# Use SVM function and fit x_train and y_train to it \n",
        "# C: Penalty parameter of the error term.\n",
        "\n",
        "svm = SVC(kernel='linear', C=1.0, random_state=1)\n",
        "svm.fit(x_train, y_train)\n",
        "y_pred = svm.predict(x_test)\n"
      ],
      "execution_count": 0,
      "outputs": []
    },
    {
      "cell_type": "code",
      "metadata": {
        "id": "sL9GmUAIFgIC",
        "colab_type": "code",
        "outputId": "dae9ac52-a3f5-4cec-f5f2-ba575f8136e7",
        "colab": {
          "base_uri": "https://localhost:8080/",
          "height": 86
        }
      },
      "source": [
        "from sklearn.metrics import accuracy_score\n",
        "\n",
        "print(\"Results from 'phishing_dataset.csv'\\n-----------------------------------\")\n",
        "print('Misclassified samples: %d' % (y_test != y_pred).sum())\n",
        "print('Accuracy: %.2f' % accuracy_score(y_test, y_pred))\n"
      ],
      "execution_count": 5,
      "outputs": [
        {
          "output_type": "stream",
          "text": [
            "Results from 'phishing_dataset.csv'\n",
            "-----------------------------------\n",
            "Misclassified samples: 257\n",
            "Accuracy: 0.92\n"
          ],
          "name": "stdout"
        }
      ]
    }
  ]
}